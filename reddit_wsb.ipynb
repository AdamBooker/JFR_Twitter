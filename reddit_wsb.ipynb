{
 "cells": [
  {
   "cell_type": "markdown",
   "metadata": {},
   "source": [
    "1. Introduction\n",
    "\n",
    "This notebook demonstrates how to connect to and get data from Twitter, Reddit, and Bitly using their Application Programming Interfaces (APIs). These APIs use Open Authorization (OAuth) to control access to their data. OAuth is a standard that provides a way to delegate internal data access to external parties. This data access method is useful for automated communications and for enforcing efficient query methods (which lowers server costs)."
   ]
  },
  {
   "cell_type": "markdown",
   "metadata": {},
   "source": [
    "2. Imports\n",
    "\n",
    "The concept of imports comes from the C programming language. Including all available codebases would make the program unreasonably large, so imports allow the addition of only what is needed, which decreases program size.  "
   ]
  },
  {
   "cell_type": "code",
   "execution_count": null,
   "metadata": {},
   "outputs": [],
   "source": [
    "import requests \n",
    "import json\n",
    "import pandas as pd\n",
    "from math import ceil\n",
    "import time\n",
    "from datetime import timedelta"
   ]
  },
  {
   "cell_type": "markdown",
   "metadata": {},
   "source": [
    "*** Add Reddit API Client ID and Secret Key here. \n",
    "\n",
    "Reddit has limitations on the timespan for which historical data is available. Several researchers have curated more complete datasets by constantly monitoring Reddit over time."
   ]
  },
  {
   "cell_type": "code",
   "execution_count": null,
   "metadata": {},
   "outputs": [],
   "source": [
    "CLIENT_ID = \"Add your client ID here\"\n",
    "SECRET_KEY = \"Add your secret key here\"\n",
    "\n",
    "# create authentication object\n",
    "auth = requests.auth.HTTPBasicAuth(CLIENT_ID, SECRET_KEY)\n",
    "reddit_headers = {'User-Agent': 'research test for u/Iskiicyblithely'}\n",
    "\n",
    "data = {\n",
    "    'grant_type': 'password',\n",
    "    'username': 'Add your user name here', # enter own reddit username\n",
    "    'password': 'Add your password here' # enter own reddit password associated with the username\n",
    "}\n",
    "\n",
    "token = requests.request('POST', 'https://www.reddit.com/api/v1/access_token', auth=auth, data=data, headers=reddit_headers).json()['access_token']\n",
    "reddit_headers['Authorization']= f'bearer {token}'\n",
    "\n",
    "def reddit_oauth(r):\n",
    "    r.headers = reddit_headers\n",
    "    return r"
   ]
  },
  {
   "cell_type": "markdown",
   "metadata": {},
   "source": [
    "API connection for Reddit GET requests"
   ]
  },
  {
   "cell_type": "code",
   "execution_count": null,
   "metadata": {},
   "outputs": [],
   "source": [
    "def connect_to_endpoint_reddit(url, auth, headers, rate_limit):\n",
    "    begin_time = time.time()\n",
    "    # for calculating wait times\n",
    "    rate_limit_window = timedelta(minutes=rate_limit)\n",
    "    response = requests.request('GET', url, auth=auth,headers=headers)\n",
    "    if response.status_code == 429:\n",
    "        sleepy_time = rate_limit_window - timedelta(seconds=ceil(time.time()-begin_time))\n",
    "        time.sleep(sleepy_time.seconds+10)\n",
    "\n",
    "        #try again\n",
    "        begin_time = time.time()\n",
    "        return connect_to_endpoint_reddit(url,auth,headers,rate_limit)\n",
    "    elif response.status_code != 200:\n",
    "        raise Exception(f'Error reddit: {response.status_code} {response.text}')\n",
    "    \n",
    "    return response.json()"
   ]
  },
  {
   "cell_type": "markdown",
   "metadata": {},
   "source": [
    "The code below traverses the posts on r/wallstreetbets on Reddit and writes each post/comment to an ndjson file."
   ]
  },
  {
   "cell_type": "code",
   "execution_count": 1,
   "metadata": {},
   "outputs": [
    {
     "ename": "NameError",
     "evalue": "name 'connect_to_endpoint_reddit' is not defined",
     "output_type": "error",
     "traceback": [
      "\u001b[1;31m---------------------------------------------------------------------------\u001b[0m",
      "\u001b[1;31mNameError\u001b[0m                                 Traceback (most recent call last)",
      "\u001b[1;32m<ipython-input-1-2302ba094c5c>\u001b[0m in \u001b[0;36m<module>\u001b[1;34m\u001b[0m\n\u001b[1;32m----> 1\u001b[1;33m \u001b[0mresponse\u001b[0m \u001b[1;33m=\u001b[0m \u001b[0mconnect_to_endpoint_reddit\u001b[0m\u001b[1;33m(\u001b[0m\u001b[1;34m'https://oauth.reddit.com/r/wallstreetbets/comments'\u001b[0m\u001b[1;33m,\u001b[0m \u001b[0mreddit_oauth\u001b[0m\u001b[1;33m,\u001b[0m \u001b[0mheaders\u001b[0m\u001b[1;33m=\u001b[0m\u001b[0mheaders\u001b[0m\u001b[1;33m)\u001b[0m\u001b[1;33m\u001b[0m\u001b[1;33m\u001b[0m\u001b[0m\n\u001b[0m\u001b[0;32m      2\u001b[0m \u001b[1;33m\u001b[0m\u001b[0m\n\u001b[0;32m      3\u001b[0m \u001b[1;32mwith\u001b[0m \u001b[0mopen\u001b[0m\u001b[1;33m(\u001b[0m\u001b[1;34m'out/reddit_wallstreetbets.json'\u001b[0m\u001b[1;33m,\u001b[0m\u001b[1;34m'w'\u001b[0m\u001b[1;33m)\u001b[0m \u001b[1;32mas\u001b[0m \u001b[0mf\u001b[0m\u001b[1;33m:\u001b[0m\u001b[1;33m\u001b[0m\u001b[1;33m\u001b[0m\u001b[0m\n\u001b[0;32m      4\u001b[0m     \u001b[1;32mfor\u001b[0m \u001b[0mi\u001b[0m \u001b[1;32min\u001b[0m \u001b[0mresponse\u001b[0m\u001b[1;33m[\u001b[0m\u001b[1;34m'data'\u001b[0m\u001b[1;33m]\u001b[0m\u001b[1;33m[\u001b[0m\u001b[1;34m'children'\u001b[0m\u001b[1;33m]\u001b[0m\u001b[1;33m:\u001b[0m\u001b[1;33m\u001b[0m\u001b[1;33m\u001b[0m\u001b[0m\n\u001b[0;32m      5\u001b[0m         \u001b[0mf\u001b[0m\u001b[1;33m.\u001b[0m\u001b[0mwrite\u001b[0m\u001b[1;33m(\u001b[0m\u001b[0mjson\u001b[0m\u001b[1;33m.\u001b[0m\u001b[0mdumps\u001b[0m\u001b[1;33m(\u001b[0m\u001b[0mi\u001b[0m\u001b[1;33m)\u001b[0m\u001b[1;33m+\u001b[0m\u001b[1;34m'\\n'\u001b[0m\u001b[1;33m)\u001b[0m\u001b[1;33m\u001b[0m\u001b[1;33m\u001b[0m\u001b[0m\n",
      "\u001b[1;31mNameError\u001b[0m: name 'connect_to_endpoint_reddit' is not defined"
     ]
    }
   ],
   "source": [
    "response = connect_to_endpoint_reddit('https://oauth.reddit.com/r/wallstreetbets/comments', reddit_oauth, headers=headers,5)\n",
    "\n",
    "with open('out/reddit_wallstreetbets.json','w') as f:\n",
    "    for i in response['data']['children']:\n",
    "        f.write(json.dumps(i)+'\\n')\n",
    "\n",
    "    while True:\n",
    "        if 'data' in response:\n",
    "            if 'after' in response['data']:\n",
    "                headers = {'before': response['data']['after']}\n",
    "                response = connect_to_endpoint('reddit', 'https://oauth.reddit.com/r/wallstreetbets/comments', reddit_oauth, headers=headers)\n",
    "                for i in response['data']['children']:\n",
    "                    f.write(json.dumps(i)+'\\n')\n",
    "                # REMOVE THE break DIRECTLY BELOW TO PARSE POSTS BEFORE THIS SET\n",
    "                break\n",
    "            else:\n",
    "                break\n",
    "        else:\n",
    "            break\n"
   ]
  },
  {
   "cell_type": "code",
   "execution_count": null,
   "metadata": {},
   "outputs": [],
   "source": []
  },
  {
   "cell_type": "code",
   "execution_count": null,
   "metadata": {},
   "outputs": [],
   "source": [
    "omments', reddit_oauth, headers=headers)\n",
    "\n",
    "with open('out/reddit_wallstreetbets.json','w') as f:\n",
    "    for i in response['data']['children']:\n",
    "        f.write(json.dumps(i)+'\\n')\n",
    "\n",
    "    while True:\n",
    "        if 'data' in response:\n",
    "            if 'after' in response['data']:\n",
    "                headers = {'before': response['data']['after']}\n",
    "                response = connect_to_endpoint('reddit', 'https://oauth.reddit.com/r/wallstreetbets/comments', reddit_oauth, headers=headers)\n",
    "                for i in response['data']['children']:\n",
    "                    f.write(json.dumps(i)+'\\n')\n",
    "            else:\n",
    "                break\n",
    "        else:\n",
    "            break\n",
    "    print(response)"
   ]
  }
 ],
 "metadata": {
  "kernelspec": {
   "display_name": "Python 3.8.5 ('base')",
   "language": "python",
   "name": "python3"
  },
  "language_info": {
   "codemirror_mode": {
    "name": "ipython",
    "version": 3
   },
   "file_extension": ".py",
   "mimetype": "text/x-python",
   "name": "python",
   "nbconvert_exporter": "python",
   "pygments_lexer": "ipython3",
   "version": "3.8.5"
  },
  "orig_nbformat": 4,
  "vscode": {
   "interpreter": {
    "hash": "ad2bdc8ecc057115af97d19610ffacc2b4e99fae6737bb82f5d7fb13d2f2c186"
   }
  }
 },
 "nbformat": 4,
 "nbformat_minor": 2
}
