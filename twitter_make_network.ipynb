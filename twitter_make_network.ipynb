{
 "cells": [
  {
   "cell_type": "markdown",
   "metadata": {},
   "source": [
    "Section 1.\n",
    "\n",
    "This section gets data from the Twitter API and constructs a network based on mentions."
   ]
  },
  {
   "cell_type": "markdown",
   "metadata": {},
   "source": [
    "The first code snippet imports the libraries needed to construct the graph. Imports evolved from the C programming language in which used a concept similar to imports (include in C) to minimize the size of code. A simple program with all available python code might be in the terabytes range, whereas a program that uses only what is needed would be in the kilobytes/megabytes range."
   ]
  },
  {
   "cell_type": "code",
   "execution_count": 1,
   "metadata": {},
   "outputs": [],
   "source": [
    "import requests \n",
    "import json\n",
    "import os\n",
    "import pandas as pd\n",
    "from math import ceil\n",
    "import re\n",
    "import time\n",
    "from datetime import timedelta\n",
    "import codecs\n",
    "import networkx as nx"
   ]
  },
  {
   "cell_type": "markdown",
   "metadata": {},
   "source": [
    "Section 2.\n",
    "\n",
    "The next section contains functions that make interacting with the Twitter API easier."
   ]
  },
  {
   "cell_type": "markdown",
   "metadata": {},
   "source": [
    "Many endpoints in the Twitter API are more efficient if a set of accounts are grouped. This function takes the following arguments:\n",
    "    group_size: the number of items in a group\n",
    "    infile_path: path to Excel file with input accounts\n",
    "    data_col: header of column with Twitter user names\n",
    "And returns:\n",
    "    a list of comma-delimited strings of group_size data_col "
   ]
  },
  {
   "cell_type": "code",
   "execution_count": 2,
   "metadata": {},
   "outputs": [],
   "source": [
    "def grouper(group_size,infile_path,data_col):\n",
    "\n",
    "        '''\n",
    "        Make a list of lists of csvs with length group_size\n",
    "\n",
    "        group_size: batch size of groups\n",
    "        infile_path: path to Excel file with input accounts\n",
    "        users_col: header of column with Twitter user names\n",
    "        '''\n",
    "        # Declare file path and group size\n",
    "        # See Twitter API docs for max group size related to your call\n",
    "        df = pd.read_excel(infile_path)\n",
    "        \n",
    "        # get list of accounts from DataFrame\n",
    "        # remove @ signs and spaces\n",
    "        accounts = [re.sub('[@ ]', '', z) for z in df[data_col].to_list()]\n",
    "        \n",
    "        # Parse to list of groups\n",
    "        num_groups = ceil(len(accounts)/group_size)\n",
    "        groups = []\n",
    "        for i in range(num_groups): groups.append(','.join(accounts[i*group_size:(i+1)*(group_size)]))\n",
    "        return groups"
   ]
  },
  {
   "cell_type": "markdown",
   "metadata": {},
   "source": [
    "*** Add your API token below\n",
    "This function is used when making a request to the Twitter API. "
   ]
  },
  {
   "cell_type": "code",
   "execution_count": 26,
   "metadata": {},
   "outputs": [],
   "source": [
    "bearer_token = 'Add API token here'\n",
    "def oauth(r):\n",
    "    '''API Authorization Callback'''\n",
    "    r.headers['Authorization'] = f'Bearer {bearer_token}'\n",
    "    r.headers['User-Agent'] = 'v2UserTweetsPython'\n",
    "    return r"
   ]
  },
  {
   "cell_type": "markdown",
   "metadata": {},
   "source": [
    "Use the function below to get data from the Twitter API. If the API is rate limiting (returns status code 429), the program waits \n",
    "\n",
    "The values of the variables below can be found in the Twitter API docs.\n",
    "\n",
    "    url: API endpoint\n",
    "    params: API parameters for endpoint\n",
    "    rate_limit: API rate limit numbe of minutes (to be nice and not make unecessary calls to the API)\n"
   ]
  },
  {
   "cell_type": "code",
   "execution_count": 7,
   "metadata": {},
   "outputs": [],
   "source": [
    "def connect_to_endpoint(url, params, rate_limit):\n",
    "        '''\n",
    "        API Connector\n",
    "\n",
    "        rate_limit: rate limit in minutes\n",
    "        url: API endpoint\n",
    "        params: Query Parameters\n",
    "        begin_time: unix time of query start\n",
    "        '''\n",
    "        begin_time = time.time()\n",
    "        # for calculating wait times\n",
    "        rate_limit_window = timedelta(minutes=rate_limit)\n",
    "\n",
    "\n",
    "        # url, auth=bearer_oauth, params=params\n",
    "        response = requests.request('GET', url=url, auth=oauth, params=params)\n",
    "        # handle rate limit\n",
    "        if response.status_code == 429:\n",
    "            sleepy_time = rate_limit_window - timedelta(seconds=ceil(time.time()-begin_time))\n",
    "            time.sleep(sleepy_time.seconds+10)\n",
    "\n",
    "            #try again\n",
    "            begin_time = time.time()\n",
    "            return connect_to_endpoint(params, begin_time)\n",
    "\n",
    "        elif response.status_code != 200:\n",
    "            raise Exception(f'Error: {response.status_code} {response.text}')\n",
    "        return response.json()"
   ]
  },
  {
   "cell_type": "markdown",
   "metadata": {},
   "source": [
    "Section 3.\n",
    "\n",
    "This section gets a list of users from a file with the Twitter accounts of CEOs on Twitter, and makes variables for use with the functions in Section 2."
   ]
  },
  {
   "cell_type": "code",
   "execution_count": 8,
   "metadata": {},
   "outputs": [],
   "source": [
    "# number of accounts in each request\n",
    "# see API docs for limits\n",
    "group_size = 20\n",
    "\n",
    "# location of excel file with user accounts\n",
    "in_file = 'in/ceo_sample.xlsx'\n",
    "\n",
    "# column header with user accounts in in_file\n",
    "user_column = 'Twitter Account'\n",
    "\n",
    "#Twitter v2 API endpoint \n",
    "api_endpoint = 'https://api.twitter.com/2/users/by'\n",
    "\n",
    "# number of minutes in rate limit\n",
    "rate_limit = 15"
   ]
  },
  {
   "cell_type": "markdown",
   "metadata": {},
   "source": [
    "Section 4.\n",
    "\n",
    "The code below gets the Twitter user IDs for the screen names in the file. First, groups 20 (group_size = 20 in this example) comma-delimited users are constructed using the grouper function. Second, a separate API call is made for each group. On the first loop, a new file is made (m = 'w'); on subsequent loops, data is appended to the file (m = 'a'). We need these IDs because the API endpoint that we need to use takes IDs, but not user names."
   ]
  },
  {
   "cell_type": "code",
   "execution_count": 18,
   "metadata": {},
   "outputs": [],
   "source": [
    "# use the grouping code in twitter_rest\n",
    "groups = grouper(group_size,in_file,user_column)\n",
    "out_file = 'in/user_ids.json'\n",
    "\n",
    "for k,users in enumerate(groups):\n",
    "    params = {}\n",
    "    params['usernames'] = users\n",
    "    params['user.fields'] = 'verified,id,public_metrics,username'\n",
    "    resp = connect_to_endpoint(api_endpoint,params,rate_limit)\n",
    "\n",
    "    #write response to file\n",
    "    if k == 0:\n",
    "        m = 'w'\n",
    "    else:\n",
    "        m = 'a'\n",
    "    with open(out_file, m) as f:\n",
    "        for r in resp['data']:\n",
    "            f.write(json.dumps(r)+'\\n')"
   ]
  },
  {
   "cell_type": "markdown",
   "metadata": {},
   "source": [
    "The code below goes to the max depth allowed with free-tier Twitter API access for each of the account IDs that we downloaded in the previous code snippet. Our goal here is to construct a network of the CEOs via their direct connections, so we parse the reply to ids here."
   ]
  },
  {
   "cell_type": "code",
   "execution_count": 19,
   "metadata": {},
   "outputs": [],
   "source": [
    "url = 'https://api.twitter.com/2/users/{id}/tweets'\n",
    "\n",
    "with open('in/user_ids.json') as f:\n",
    "    out_data = []\n",
    "\n",
    "    for k,j in enumerate(f):\n",
    "        user = json.loads(j)\n",
    "        api_endpoint = url.format(id=user['id'])\n",
    "        params = {}\n",
    "        params['expansions'] = 'in_reply_to_user_id'\n",
    "        params['max_results'] = 100\n",
    "        \n",
    "        resp = connect_to_endpoint(api_endpoint, params, rate_limit)\n",
    "        try:\n",
    "            while 'next_token' in resp['meta']:\n",
    "                params['pagination_token'] = resp['meta']['next_token']\n",
    "                resp = connect_to_endpoint(api_endpoint, params, rate_limit)\n",
    "                for k,z in enumerate(resp['data']):\n",
    "                    if 'in_reply_to_user_id' in z:\n",
    "                        uid = user['id']\n",
    "                        reply_uid = z['in_reply_to_user_id']\n",
    "                        tweet_id = z['id']\n",
    "                        text = codecs.encode(re.sub('\\n', ' ', z['text']), 'utf-8',errors='ignore')\n",
    "                        out_data.append([str(uid),str(reply_uid)])\n",
    "        except:\n",
    "            # here if user deleted their account\n",
    "            continue\n",
    "        \n",
    "with open('out/edge_list3200.txt', 'w') as f:\n",
    "    f.write('uid\\treply_uid\\n')\n",
    "    for i in out_data:\n",
    "        f.write('\\t'.join(i)+'\\n',)"
   ]
  },
  {
   "cell_type": "markdown",
   "metadata": {},
   "source": [
    "Make a graph with Networkx"
   ]
  },
  {
   "cell_type": "code",
   "execution_count": 24,
   "metadata": {},
   "outputs": [
    {
     "name": "stdout",
     "output_type": "stream",
     "text": [
      "Graph with 2395 nodes and 2453 edges\n"
     ]
    },
    {
     "data": {
      "image/png": "[encoded data removed]",
      "text/plain": [
       "<Figure size 432x288 with 1 Axes>"
      ]
     },
     "metadata": {},
     "output_type": "display_data"
    }
   ],
   "source": [
    "with open('out/edge_list3200.txt', 'rb') as f:\n",
    "    # remove header\n",
    "    next(f)\n",
    "\n",
    "    # add source and target from edge list\n",
    "    g = nx.read_edgelist(f, delimiter='\\t')\n",
    "print(g)\n",
    "nx.draw(g, pos=nx.kamada_kawai_layout(g))"
   ]
  }
 ],
 "metadata": {
  "kernelspec": {
   "display_name": "Python 3.8.5 ('base')",
   "language": "python",
   "name": "python3"
  },
  "language_info": {
   "codemirror_mode": {
    "name": "ipython",
    "version": 3
   },
   "file_extension": ".py",
   "mimetype": "text/x-python",
   "name": "python",
   "nbconvert_exporter": "python",
   "pygments_lexer": "ipython3",
   "version": "3.8.5"
  },
  "orig_nbformat": 4,
  "vscode": {
   "interpreter": {
    "hash": "ad2bdc8ecc057115af97d19610ffacc2b4e99fae6737bb82f5d7fb13d2f2c186"
   }
  }
 },
 "nbformat": 4,
 "nbformat_minor": 2
}
