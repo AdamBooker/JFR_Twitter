{
 "cells": [
  {
   "cell_type": "markdown",
   "metadata": {},
   "source": [
    "1. Introduction\n",
    "\n",
    "This notebook demonstrates how to connect to and get data from Twitter, Reddit, and Bitly using their Application Programming Interfaces (APIs). These APIs use Open Authorization (OAuth) to control access to their data. OAuth is a standard that provides a way to delegate internal data access to external parties. This data access method is useful for automated communications and for enforcing efficient query methods (which lowers server costs)."
   ]
  },
  {
   "cell_type": "markdown",
   "metadata": {},
   "source": [
    "2. Imports\n",
    "\n",
    "The concept of imports comes from the C programming language. Including all available codebases would make the program unreasonably large, so imports allow the addition of only what is needed, which decreases program size.  "
   ]
  },
  {
   "cell_type": "code",
   "execution_count": 1,
   "metadata": {},
   "outputs": [],
   "source": [
    "import requests \n",
    "import json\n",
    "import pandas as pd\n",
    "from math import ceil\n",
    "import time\n",
    "from datetime import timedelta"
   ]
  },
  {
   "cell_type": "markdown",
   "metadata": {},
   "source": [
    "*** Add your API token below\n",
    "This function is used when making a request to the Twitter API. "
   ]
  },
  {
   "cell_type": "code",
   "execution_count": 2,
   "metadata": {},
   "outputs": [],
   "source": [
    "BEARER_TOKEN = 'Enter your API key here'\n",
    "def twitter_oauth(r):\n",
    "    '''API Authorization Callback'''\n",
    "    r.headers['Authorization'] = f'Bearer {BEARER_TOKEN}'\n",
    "    r.headers['User-Agent'] = 'Pycathalon Nopebooks, HAL 5000, & 42'\n",
    "    return r"
   ]
  },
  {
   "cell_type": "markdown",
   "metadata": {},
   "source": [
    "This is a function to handle GET requests to Twitter's API. (Note: POST requests don't generally have a HTTP status 429 wait.)"
   ]
  },
  {
   "cell_type": "code",
   "execution_count": 3,
   "metadata": {},
   "outputs": [],
   "source": [
    "def connect_to_endpoint_twitter(url, params, rate_limit, auth):\n",
    "    '''\n",
    "    API Connector\n",
    "\n",
    "    rate_limit: rate limit in minutes\n",
    "    url: API endpoint\n",
    "    params: Query Parameters\n",
    "    begin_time: unix time of query start\n",
    "    '''\n",
    "    begin_time = time.time()\n",
    "    # for calculating wait times\n",
    "    rate_limit_window = timedelta(minutes=rate_limit)\n",
    "\n",
    "\n",
    "    # url, auth=bearer_oauth, params=params\n",
    "    response = requests.request('GET', url=url, auth=auth, params=params)\n",
    "    # handle rate limit\n",
    "    if response.status_code == 429:\n",
    "        sleepy_time = rate_limit_window - timedelta(seconds=ceil(time.time()-begin_time))\n",
    "        time.sleep(sleepy_time.seconds+10)\n",
    "\n",
    "        #try again\n",
    "        begin_time = time.time()\n",
    "        return connect_to_endpoint_twitter(url, params, rate_limit, auth)\n",
    "\n",
    "    elif response.status_code != 200:\n",
    "        raise Exception(f'Error twitter: {response.status_code} {response.text}')\n",
    "    return response.json()"
   ]
  },
  {
   "cell_type": "markdown",
   "metadata": {},
   "source": [
    "The code below connects to the Streaming Twitter API. This connection is different than the REST connections because the data pipeline is streamed in real time as Tweets are posted (the API does allow 5 minutesd of backfill, but still not asynchronous like REST). Instead of adding to connect_to_endpoint, requests is used directly to demonstrate synchronous polling."
   ]
  },
  {
   "cell_type": "code",
   "execution_count": 9,
   "metadata": {},
   "outputs": [],
   "source": [
    "\n",
    "# Rules tell the Twitter server which Tweets to return. \n",
    "# See the current set of rules at this endpoint\n",
    "url = 'https://api.twitter.com/2/tweets/search/stream/rules'\n",
    "response = connect_to_endpoint_twitter(url, None, 1, auth=twitter_oauth)\n",
    "rules = response\n",
    "\n",
    "# Delete previous rules\n",
    "url = 'https://api.twitter.com/2/tweets/search/stream/rules'\n",
    "if rules is not None and 'data' in rules:\n",
    "    payload = {'delete': {'ids': [z['id'] for z in rules['data']]}}\n",
    "    sc = requests.request('POST', url, auth=twitter_oauth,json=payload).status_code\n",
    "    if sc != 200:\n",
    "        print(f'Rule deletion error status code: {sc}')\n",
    "\n",
    "# Make a rule to get all posts with the cashtag $TSLA\n",
    "# Making a rule requires sending data to Twitter with a Post request. \n",
    "# The function connect_to_endpoint() works with Get requests, so we will use another request.\n",
    "# We could add a \"GET\", \"Post\" option to connect_to_endpoint() using the request below\n",
    "# https://developer.twitter.com/en/docs/twitter-api/tweets/filtered-stream/integrate/build-a-rule#types\n",
    "\n",
    "rule = {'add': [{'value':'$TSLA'}]}\n",
    "# Notice the term 'POST' is used to send data (the data is the rule in this case)\n",
    "requests.request('POST', url, auth=twitter_oauth, json=rule)\n",
    "\n",
    "\n",
    "url = 'https://api.twitter.com/2/tweets/search/stream'\n",
    "# Here there is another new term in our requests: stream. \n",
    "# The boolean variable stream is used to keep the connection to twitter open.\n",
    "response = requests.request('GET', url, auth=twitter_oauth, stream=True)\n",
    "\n",
    "# This will keep adding posts to the file below until there is an exception\n",
    "# Remove break to make this code continuously monitor Twitter\n",
    "with open('out/twitter_tsla.json', 'wb') as f:\n",
    "    for r in response.iter_lines():\n",
    "        if r:\n",
    "            f.write(r+b'\\n')\n",
    "            break"
   ]
  }
 ],
 "metadata": {
  "kernelspec": {
   "display_name": "Python 3.8.5 ('base')",
   "language": "python",
   "name": "python3"
  },
  "language_info": {
   "codemirror_mode": {
    "name": "ipython",
    "version": 3
   },
   "file_extension": ".py",
   "mimetype": "text/x-python",
   "name": "python",
   "nbconvert_exporter": "python",
   "pygments_lexer": "ipython3",
   "version": "3.8.5"
  },
  "orig_nbformat": 4,
  "vscode": {
   "interpreter": {
    "hash": "ad2bdc8ecc057115af97d19610ffacc2b4e99fae6737bb82f5d7fb13d2f2c186"
   }
  }
 },
 "nbformat": 4,
 "nbformat_minor": 2
}
